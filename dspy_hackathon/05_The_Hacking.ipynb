{
 "cells": [
  {
   "cell_type": "code",
   "execution_count": 0,
   "metadata": {
    "application/vnd.databricks.v1+cell": {
     "cellMetadata": {},
     "inputWidgets": {},
     "nuid": "1f931f49-f396-4773-94e8-35cbd9dcf28a",
     "showTitle": false,
     "tableResultSettingsMap": {},
     "title": ""
    }
   },
   "outputs": [],
   "source": [
    "%pip install --upgrade dspy mlflow databricks-agents databricks-sdk databricks-mcp databricks-dspy uv unitycatalog-ai[databricks]\n",
    "dbutils.library.restartPython()"
   ]
  },
  {
   "cell_type": "code",
   "execution_count": 0,
   "metadata": {
    "application/vnd.databricks.v1+cell": {
     "cellMetadata": {},
     "inputWidgets": {},
     "nuid": "6fc9db75-1b5e-4086-b9dd-8d150f5d108c",
     "showTitle": false,
     "tableResultSettingsMap": {},
     "title": ""
    }
   },
   "outputs": [],
   "source": [
    "import dspy\n",
    "import mlflow\n",
    "import databricks_dspy\n",
    "\n",
    "mlflow.dspy.autolog()\n",
    "\n",
    "databricksLM = databricks_dspy.DatabricksLM('databricks/databricks-gpt-oss-120b', cache=False)\n",
    "dspy.configure(lm=databricksLM)\n",
    "\n",
    "predict = dspy.Predict(\"question->answer\")\n",
    "\n",
    "print(predict(question=\"why did a chicken cross the kitchen?\"))\n",
    "\n"
   ]
  },
  {
   "cell_type": "markdown",
   "metadata": {
    "application/vnd.databricks.v1+cell": {
     "cellMetadata": {},
     "inputWidgets": {},
     "nuid": "21a28c73-ee39-4383-88da-65e25c52a725",
     "showTitle": false,
     "tableResultSettingsMap": {},
     "title": ""
    }
   },
   "source": [
    "#Make a UC Function\n"
   ]
  },
  {
   "cell_type": "code",
   "execution_count": 0,
   "metadata": {
    "application/vnd.databricks.v1+cell": {
     "cellMetadata": {},
     "inputWidgets": {},
     "nuid": "2c03cfe3-4248-4689-80ba-73105dff2b64",
     "showTitle": false,
     "tableResultSettingsMap": {},
     "title": ""
    }
   },
   "outputs": [],
   "source": [
    "%sql\n",
    "CREATE OR REPLACE FUNCTION genai_in_production_demo_catalog.agents.<TODO: update to your own name>(<TODO: update the input to what your function needs> COMMENT <TODO: add a description of what the input should be/look like>)\n",
    "RETURNS STRING\n",
    "LANGUAGE PYTHON\n",
    "COMMENT <TODO: Add a description of what this function does to help the agent pick the function>\n",
    "AS $$\n",
    "<TODO: python code goes here. it's like defining a python function>\n",
    "$$"
   ]
  },
  {
   "cell_type": "markdown",
   "metadata": {
    "application/vnd.databricks.v1+cell": {
     "cellMetadata": {},
     "inputWidgets": {},
     "nuid": "c9801db7-23b1-46db-896d-7b5c601bbc9f",
     "showTitle": false,
     "tableResultSettingsMap": {},
     "title": ""
    }
   },
   "source": [
    "#Make a Genie Tool\n",
    "\n",
    "The Genie space has already been created for you. Here are the details: \n",
    "\n",
    "<insert genie id once made>"
   ]
  },
  {
   "cell_type": "code",
   "execution_count": 0,
   "metadata": {
    "application/vnd.databricks.v1+cell": {
     "cellMetadata": {},
     "inputWidgets": {},
     "nuid": "315528a4-f8e6-41f9-a1ff-8b7379493215",
     "showTitle": false,
     "tableResultSettingsMap": {},
     "title": ""
    }
   },
   "outputs": [],
   "source": [
    "from databricks_ai_bridge.genie import Genie\n",
    "from databricks.sdk import WorkspaceClient\n",
    "\n",
    "customer_product_lookup = Genie(\n",
    "    space_id=\"\", #change to your Genie Space ID\n",
    "    client=WorkspaceClient()  \n",
    ")\n",
    "\n",
    "#TODO: create a python function that returns the result of the Genie Space\n",
    "\n",
    "response = customer_product_lookup.ask_question(\"what is the latest vehicle Dawn RADANOVITZ-MINNITI purchased\")\n",
    "print(response.result)"
   ]
  },
  {
   "cell_type": "markdown",
   "metadata": {
    "application/vnd.databricks.v1+cell": {
     "cellMetadata": {},
     "inputWidgets": {},
     "nuid": "fb2d4115-ed18-4c3f-a319-f05e2bb36777",
     "showTitle": false,
     "tableResultSettingsMap": {},
     "title": ""
    }
   },
   "source": [
    "#Make an KA Agent Tool"
   ]
  },
  {
   "cell_type": "code",
   "execution_count": 0,
   "metadata": {
    "application/vnd.databricks.v1+cell": {
     "cellMetadata": {},
     "inputWidgets": {},
     "nuid": "63de7706-75f8-4e3a-9dc2-71489b3ba50e",
     "showTitle": false,
     "tableResultSettingsMap": {},
     "title": ""
    }
   },
   "outputs": [],
   "source": [
    "endpoint_name = \"\" #TODO: update this to the agent brick endpoint name you set\n",
    "\n",
    "def sec_search(self, databricks_question):\n",
    "        \"\"\"This function needs the User's question. The question is used to pull documentation about Databricks. Use the information to answer the user's question\"\"\"\n",
    "        client = mlflow.deployments.get_deploy_client(\"databricks\")\n",
    "        response = client.predict(\n",
    "            endpoint=self.endpoint_name,\n",
    "            inputs={\"dataframe_split\": {\n",
    "                \"columns\": [\"input\"],\n",
    "                \"data\": [[\n",
    "                    [{\"role\": \"user\", \"content\": databricks_question}]\n",
    "                ]]\n",
    "            }}\n",
    "        )\n",
    "        return response['predictions']['output'][0]['content'][0]['text']"
   ]
  }
 ],
 "metadata": {
  "application/vnd.databricks.v1+notebook": {
   "computePreferences": null,
   "dashboards": [],
   "environmentMetadata": {
    "base_environment": "",
    "environment_version": "4"
   },
   "inputWidgetPreferences": null,
   "language": "python",
   "notebookMetadata": {
    "pythonIndentUnit": 4
   },
   "notebookName": "05_The_Hacking",
   "widgets": {}
  },
  "language_info": {
   "name": "python"
  }
 },
 "nbformat": 4,
 "nbformat_minor": 0
}
